{
 "cells": [
  {
   "cell_type": "markdown",
   "id": "384b7c5e",
   "metadata": {},
   "source": [
    "# Mencari Dan Mengunduh Ligand Menggunakan `rcsb-api`"
   ]
  },
  {
   "cell_type": "code",
   "execution_count": 3,
   "id": "4c4108a3",
   "metadata": {},
   "outputs": [],
   "source": [
    "# Import the components of rcsb-api needed for this search\n",
    "from rcsbapi.search import search_attributes as attrs"
   ]
  },
  {
   "cell_type": "code",
   "execution_count": 4,
   "id": "da25d6ea",
   "metadata": {},
   "outputs": [
    {
     "name": "stdout",
     "output_type": "stream",
     "text": [
      "['1AQ7', '1AUJ', '1AZ8', '1BJV', '1BTW', '1BTX', '1BTZ', '1C1S', '1C1T', '1C2D']\n",
      "There are 187 trypsin structures that contain ligands in the RCSB PDB.\n"
     ]
    }
   ],
   "source": [
    "# There will be three components to the query, which will be labeled q1, q2 and q3.\n",
    "\n",
    "ec_number = \"3.4.21.4\"     # We will use this variable again later\n",
    "\n",
    "q1 = attrs.rcsb_polymer_entity.rcsb_ec_lineage.id == ec_number    # looking for trypsin structures with EC = 3.4.21.4\n",
    "q2 = attrs.chem_comp.formula_weight >= 300                       # setting the lower limit for molecular weight\n",
    "q3 = attrs.chem_comp.formula_weight <= 800                       # setting the upper limit for molecular weight\n",
    "\n",
    "query = q1 & q2 & q3              # combining the three queries into one\n",
    "\n",
    "result_list = list(query())           # assign the results of the query to a list variable\n",
    "\n",
    "print(result_list[0:10])              # list the first 10 results\n",
    "\n",
    "print(\"There are\", len(result_list), \"trypsin structures that contain ligands in the RCSB PDB.\")"
   ]
  },
  {
   "cell_type": "code",
   "execution_count": 5,
   "id": "0debb804",
   "metadata": {},
   "outputs": [
    {
     "name": "stdout",
     "output_type": "stream",
     "text": [
      "There are 119 ligands for EC Number 3.4.21.4 in this list. Here is a list of the first 10 ligands.\n"
     ]
    },
    {
     "data": {
      "text/plain": [
       "['0CA', '0CB', '0G6', '0IV', '0KV', '0ZG', '0ZW', '0ZX', '0ZY', '10U']"
      ]
     },
     "execution_count": 5,
     "metadata": {},
     "output_type": "execute_result"
    }
   ],
   "source": [
    "mol_result_list = list(query(\"mol_definition\"))\n",
    "print(\"There are\",len(mol_result_list), \"ligands for EC Number\", ec_number, \"in this list. Here is a list of the first 10 ligands.\")\n",
    "mol_result_list[0:10]"
   ]
  },
  {
   "cell_type": "code",
   "execution_count": 6,
   "id": "2b82b709",
   "metadata": {},
   "outputs": [],
   "source": [
    "\n",
    "import requests  # to enable us to pull files from the PDB\n",
    "import os        # to enable us to create a directory to store the files"
   ]
  },
  {
   "cell_type": "code",
   "execution_count": 7,
   "id": "4fb3d059",
   "metadata": {},
   "outputs": [],
   "source": [
    "# Download one of the files from our list: 11U.sdf\n",
    "\n",
    "res_11u_sdf = requests.get('https://files.rcsb.org/ligands/download/11U_ideal.sdf')"
   ]
  },
  {
   "cell_type": "code",
   "execution_count": 8,
   "id": "cfb600d8",
   "metadata": {},
   "outputs": [
    {
     "data": {
      "text/plain": [
       "200"
      ]
     },
     "execution_count": 8,
     "metadata": {},
     "output_type": "execute_result"
    }
   ],
   "source": [
    "\n",
    "# check to see that the file downloaded properly. A status code of 200 means everything is okay.\n",
    "\n",
    "res_11u_sdf.status_code"
   ]
  },
  {
   "cell_type": "code",
   "execution_count": 11,
   "id": "1b222a19",
   "metadata": {},
   "outputs": [],
   "source": [
    "\n",
    "# To really be sure, let's look at the file one line at a time. First we write the downloaded content to a file.\n",
    "\n",
    "# make a ligands folder for our results\n",
    "os.makedirs(\"ligands\", exist_ok=True)\n",
    "\n",
    "with open(\"ligands/11U_ideal.sdf\", \"w+\") as file:\n",
    "    file.write(res_11u_sdf.text)"
   ]
  },
  {
   "cell_type": "code",
   "execution_count": 12,
   "id": "87e2336c",
   "metadata": {},
   "outputs": [
    {
     "name": "stdout",
     "output_type": "stream",
     "text": [
      "11U\n",
      "  CCTOOLS-0919241032\n",
      "\n",
      " 59 61  0  0  1  0  0  0  0  0999 V2000\n",
      "    2.4220    0.4070    0.3360 C   0  0  0  0  0\n",
      "    2.0060   -0.6420    0.7800 O   0  0  0  0  0\n",
      "    3.8690    0.5350   -0.0630 C   0  0  0  0  0\n",
      "    4.5590   -0.7380    0.1810 N   0  0  0  0  0\n",
      "    5.9760   -0.6510   -0.1970 C   0  0  0  0  0\n",
      "    6.7790   -0.0680    0.9670 C   0  0  0  0  0\n",
      "    8.2550    0.0240    0.5730 C   0  0  0  0  0\n",
      "    8.7810   -1.3740    0.2400 C   0  0  0  0  0\n",
      "    7.9780   -1.9570   -0.9250 C   0  0  0  0  0\n",
      "    6.5020   -2.0480   -0.5310 C   0  0  0  0  0\n",
      "    1.5890    1.4580    0.1990 N   0  0  0  0  0\n",
      "    0.1600    1.4690    0.5420 C   0  0  0  0  0\n",
      "   -0.5770    0.4580   -0.2980 C   0  0  0  0  0\n",
      "    0.0270   -0.2120   -1.1080 O   0  0  0  0  0\n",
      "   -0.3710    2.8880    0.2460 C   0  0  0  0  0\n",
      "    0.9140    3.7560    0.2780 C   0  0  0  0  0\n",
      "    1.9600    2.7850   -0.3250 C   0  0  0  0  0\n",
      "   -1.9070    0.2990   -0.1490 N   0  0  0  0  0\n",
      "   -2.6230   -0.6850   -0.9660 C   0  0  0  0  0\n",
      "   -4.0860   -0.6660   -0.6070 C   0  0  0  0  0\n",
      "   -4.5620   -1.4980    0.3910 C   0  0  0  0  0\n",
      "   -5.9000   -1.4810    0.7270 C   0  0  0  0  0\n",
      "   -6.7750   -0.6300    0.0520 C   0  0  0  0  0\n",
      "   -8.2130   -0.6110    0.4050 C   0  0  0  0  0\n",
      "   -9.0280    0.1840   -0.2270 N   0  0  0  0  0\n",
      "   -8.6890   -1.4350    1.4020 N   0  0  0  0  0\n",
      "   -6.2910    0.2030   -0.9560 C   0  0  0  0  0\n",
      "   -4.9490    0.1800   -1.2800 C   0  0  0  0  0\n",
      "    3.9330    0.7860   -1.1220 H   0  0  0  0  0\n",
      "    4.3400    1.3220    0.5260 H   0  0  0  0  0\n",
      "    4.4590   -1.0250    1.1430 H   0  0  0  0  0\n",
      "    6.0800   -0.0050   -1.0690 H   0  0  0  0  0\n",
      "    6.4040    0.9280    1.2050 H   0  0  0  0  0\n",
      "    6.6750   -0.7130    1.8390 H   0  0  0  0  0\n",
      "    8.8270    0.4390    1.4030 H   0  0  0  0  0\n",
      "    8.3590    0.6690   -0.2990 H   0  0  0  0  0\n",
      "    8.6770   -2.0190    1.1120 H   0  0  0  0  0\n",
      "    9.8320   -1.3090   -0.0410 H   0  0  0  0  0\n",
      "    8.3530   -2.9520   -1.1620 H   0  0  0  0  0\n",
      "    8.0820   -1.3110   -1.7970 H   0  0  0  0  0\n",
      "    6.3980   -2.6930    0.3420 H   0  0  0  0  0\n",
      "    5.9300   -2.4630   -1.3600 H   0  0  0  0  0\n",
      "    0.0300    1.2400    1.6000 H   0  0  0  0  0\n",
      "   -1.0720    3.2080    1.0170 H   0  0  0  0  0\n",
      "   -0.8360    2.9240   -0.7390 H   0  0  0  0  0\n",
      "    1.1770    4.0280    1.3010 H   0  0  0  0  0\n",
      "    0.8020    4.6440   -0.3440 H   0  0  0  0  0\n",
      "    2.9630    3.0560    0.0040 H   0  0  0  0  0\n",
      "    1.9020    2.7930   -1.4130 H   0  0  0  0  0\n",
      "   -2.3900    0.8350    0.4990 H   0  0  0  0  0\n",
      "   -2.5040   -0.4370   -2.0200 H   0  0  0  0  0\n",
      "   -2.2160   -1.6780   -0.7780 H   0  0  0  0  0\n",
      "   -3.8840   -2.1590    0.9100 H   0  0  0  0  0\n",
      "   -6.2690   -2.1270    1.5090 H   0  0  0  0  0\n",
      "   -9.9700    0.1960    0.0040 H   0  0  0  0  0\n",
      "   -8.0820   -2.0270    1.8720 H   0  0  0  0  0\n",
      "   -9.6310   -1.4220    1.6330 H   0  0  0  0  0\n",
      "   -6.9630    0.8640   -1.4820 H   0  0  0  0  0\n",
      "   -4.5730    0.8240   -2.0610 H   0  0  0  0  0\n",
      "  1  2  2  0  0  0\n",
      "  1  3  1  0  0  0\n",
      "  3  4  1  0  0  0\n",
      "  3 29  1  0  0  0\n",
      "  3 30  1  0  0  0\n",
      "  4  5  1  0  0  0\n",
      "  4 31  1  0  0  0\n",
      "  5 10  1  0  0  0\n",
      "  5  6  1  0  0  0\n",
      "  5 32  1  0  0  0\n",
      "  6 33  1  0  0  0\n",
      "  6 34  1  0  0  0\n",
      "  7  6  1  0  0  0\n",
      "  7 35  1  0  0  0\n",
      "  7 36  1  0  0  0\n",
      "  8  7  1  0  0  0\n",
      "  8 37  1  0  0  0\n",
      "  8 38  1  0  0  0\n",
      "  9  8  1  0  0  0\n",
      "  9 39  1  0  0  0\n",
      "  9 40  1  0  0  0\n",
      " 10  9  1  0  0  0\n",
      " 10 41  1  0  0  0\n",
      " 10 42  1  0  0  0\n",
      " 11  1  1  0  0  0\n",
      " 11 17  1  0  0  0\n",
      " 11 12  1  0  0  0\n",
      " 12 13  1  0  0  0\n",
      " 12 43  1  0  0  0\n",
      " 13 18  1  0  0  0\n",
      " 13 14  2  0  0  0\n",
      " 15 12  1  0  0  0\n",
      " 15 44  1  0  0  0\n",
      " 15 45  1  0  0  0\n",
      " 16 15  1  0  0  0\n",
      " 16 46  1  0  0  0\n",
      " 16 47  1  0  0  0\n",
      " 17 16  1  0  0  0\n",
      " 17 48  1  0  0  0\n",
      " 17 49  1  0  0  0\n",
      " 18 19  1  0  0  0\n",
      " 18 50  1  0  0  0\n",
      " 19 20  1  0  0  0\n",
      " 19 51  1  0  0  0\n",
      " 19 52  1  0  0  0\n",
      " 20 28  2  0  0  0\n",
      " 20 21  1  0  0  0\n",
      " 21 53  1  0  0  0\n",
      " 22 21  2  0  0  0\n",
      " 22 54  1  0  0  0\n",
      " 23 24  1  0  0  0\n",
      " 23 22  1  0  0  0\n",
      " 24 25  2  0  0  0\n",
      " 24 26  1  0  0  0\n",
      " 25 55  1  0  0  0\n",
      " 26 56  1  0  0  0\n",
      " 26 57  1  0  0  0\n",
      " 27 23  2  0  0  0\n",
      " 27 58  1  0  0  0\n",
      " 28 27  1  0  0  0\n",
      " 28 59  1  0  0  0\n",
      "M  END\n",
      "$$$$\n",
      "\n"
     ]
    }
   ],
   "source": [
    "# Now we use these commands to read the file and make sure it downloaded properly. As an alternative, we\n",
    "# could go to the ligands folder in our Jupyter desktop and click on res11U.mol2 to make sure it looks correct.\n",
    "\n",
    "file1 = open('ligands/11U_ideal.sdf', 'r')\n",
    "file_text = file1.read() # This reads in the file as a string.\n",
    "\n",
    "print(file_text)"
   ]
  }
 ],
 "metadata": {
  "kernelspec": {
   "display_name": "venv",
   "language": "python",
   "name": "python3"
  },
  "language_info": {
   "codemirror_mode": {
    "name": "ipython",
    "version": 3
   },
   "file_extension": ".py",
   "mimetype": "text/x-python",
   "name": "python",
   "nbconvert_exporter": "python",
   "pygments_lexer": "ipython3",
   "version": "3.9.21"
  }
 },
 "nbformat": 4,
 "nbformat_minor": 5
}
